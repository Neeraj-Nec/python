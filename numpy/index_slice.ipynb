{
 "cells": [
  {
   "cell_type": "markdown",
   "id": "9fe71a51",
   "metadata": {},
   "source": [
    "# indexing"
   ]
  },
  {
   "cell_type": "code",
   "execution_count": 7,
   "id": "40aaa302",
   "metadata": {},
   "outputs": [
    {
     "name": "stdout",
     "output_type": "stream",
     "text": [
      "5\n",
      "1\n",
      "[1 2 3 4 5]\n"
     ]
    }
   ],
   "source": [
    "import numpy as np\n",
    "\n",
    "arr = np.array([1,2,3,4,5])\n",
    "\n",
    "print(arr[4])\n",
    "print(arr[-5])\n",
    "print(arr)"
   ]
  },
  {
   "cell_type": "code",
   "execution_count": 9,
   "id": "9a6af194",
   "metadata": {},
   "outputs": [
    {
     "name": "stdout",
     "output_type": "stream",
     "text": [
      "[[1 2 3 4]\n",
      " [2 3 4 5]]\n",
      "3\n"
     ]
    }
   ],
   "source": [
    "array_2d = np.array([[1,2,3,4],[2,3,4,5]])\n",
    "\n",
    "print(array_2d)\n",
    "\n",
    "print(array_2d[1,1])"
   ]
  },
  {
   "cell_type": "markdown",
   "id": "f3b9bd65",
   "metadata": {},
   "source": [
    "# slice"
   ]
  },
  {
   "cell_type": "code",
   "execution_count": 16,
   "id": "db15ea7a",
   "metadata": {},
   "outputs": [
    {
     "name": "stdout",
     "output_type": "stream",
     "text": [
      "[2 3 4 5 6 7]\n",
      "[2 4 6]\n"
     ]
    }
   ],
   "source": [
    "array = np.array([1,2,3,4,5,6,7,])\n",
    "\n",
    "print(array[1:])\n",
    "\n",
    "print(array[1:6:2])# jumpy by one value "
   ]
  },
  {
   "cell_type": "code",
   "execution_count": 18,
   "id": "0ad47888",
   "metadata": {},
   "outputs": [
    {
     "name": "stdout",
     "output_type": "stream",
     "text": [
      "[[ 1  2  3  4  5]\n",
      " [12 34 56 78 90]\n",
      " [98 80 43 21 54]]\n",
      "[34 56 78 90]\n"
     ]
    }
   ],
   "source": [
    "array = np.array([[1,2,3,4,5],[12,34,56,78,90],[98,80,43,21,54]])\n",
    "print(array)\n",
    "\n",
    "print(array[1,1:]) # frist index is for moving to the array (1: [12,34,56,78,90])"
   ]
  },
  {
   "cell_type": "code",
   "execution_count": null,
   "id": "d50e7fbe",
   "metadata": {},
   "outputs": [],
   "source": []
  }
 ],
 "metadata": {
  "kernelspec": {
   "display_name": "Python 3 (ipykernel)",
   "language": "python",
   "name": "python3"
  },
  "language_info": {
   "codemirror_mode": {
    "name": "ipython",
    "version": 3
   },
   "file_extension": ".py",
   "mimetype": "text/x-python",
   "name": "python",
   "nbconvert_exporter": "python",
   "pygments_lexer": "ipython3",
   "version": "3.9.4"
  }
 },
 "nbformat": 4,
 "nbformat_minor": 5
}
