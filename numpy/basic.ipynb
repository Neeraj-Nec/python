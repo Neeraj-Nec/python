{
 "cells": [
  {
   "cell_type": "code",
   "execution_count": 12,
   "id": "350c1cdd",
   "metadata": {},
   "outputs": [
    {
     "name": "stdout",
     "output_type": "stream",
     "text": [
      "[1 2 3 4]\n",
      "<class 'numpy.ndarray'>\n"
     ]
    }
   ],
   "source": [
    "import numpy as np\n",
    "\n",
    "# numpy array repersentation\n",
    "np = np.array([1,2,3,4])\n",
    "print(np)\n",
    "print(type(np))"
   ]
  },
  {
   "cell_type": "code",
   "execution_count": 13,
   "id": "aec2fabf",
   "metadata": {},
   "outputs": [
    {
     "name": "stdout",
     "output_type": "stream",
     "text": [
      "[1, 2, 3, 4]\n",
      "<class 'list'>\n"
     ]
    }
   ],
   "source": [
    "#list repersentation\n",
    "np = [1,2,3,4]\n",
    "print(np)\n",
    "print(type(np))"
   ]
  },
  {
   "cell_type": "code",
   "execution_count": 14,
   "id": "8f0aaa35",
   "metadata": {},
   "outputs": [],
   "source": [
    "# List is comma seprated and numpy is not "
   ]
  },
  {
   "cell_type": "code",
   "execution_count": 15,
   "id": "9f2851ee",
   "metadata": {},
   "outputs": [
    {
     "name": "stdout",
     "output_type": "stream",
     "text": [
      "[1 2 3 4]\n",
      "1\n",
      "[[1 2 3 4]\n",
      " [4 4 5 9]]\n",
      "2\n"
     ]
    }
   ],
   "source": [
    "import numpy as np\n",
    "array = np.array([1,2,3,4])\n",
    "print(array)\n",
    "print(array.ndim)\n",
    "\n",
    "# 2D data\n",
    "\n",
    "array_2d = np.array([[1,2,3,4],[4,4,5,9]])\n",
    "print(array_2d)\n",
    "print(array_2d.ndim)"
   ]
  },
  {
   "cell_type": "markdown",
   "id": "8fb6bb08",
   "metadata": {},
   "source": [
    "# Special numpy array"
   ]
  },
  {
   "cell_type": "markdown",
   "id": "959f85b0",
   "metadata": {},
   "source": [
    "# zeros\n"
   ]
  },
  {
   "cell_type": "code",
   "execution_count": 16,
   "id": "5784a28c",
   "metadata": {},
   "outputs": [
    {
     "name": "stdout",
     "output_type": "stream",
     "text": [
      "[0. 0. 0. 0.]\n",
      "[[0 0 0 0]\n",
      " [0 0 0 0]\n",
      " [0 0 0 0]]\n"
     ]
    }
   ],
   "source": [
    "zero = np.zeros(4)\n",
    "print(zero)\n",
    "\n",
    "zero_dim = np.zeros((3,4), int)\n",
    "print(zero_dim)"
   ]
  },
  {
   "cell_type": "markdown",
   "id": "9415df1d",
   "metadata": {},
   "source": [
    "# ones\n"
   ]
  },
  {
   "cell_type": "code",
   "execution_count": 17,
   "id": "f1b4c2c5",
   "metadata": {},
   "outputs": [
    {
     "name": "stdout",
     "output_type": "stream",
     "text": [
      "[[1. 1. 1.]\n",
      " [1. 1. 1.]\n",
      " [1. 1. 1.]\n",
      " [1. 1. 1.]]\n"
     ]
    }
   ],
   "source": [
    "ones = np.ones((4,3))\n",
    "print(ones)"
   ]
  },
  {
   "cell_type": "markdown",
   "id": "2a94c769",
   "metadata": {},
   "source": [
    "# empty"
   ]
  },
  {
   "cell_type": "code",
   "execution_count": 18,
   "id": "5b293a21",
   "metadata": {},
   "outputs": [
    {
     "name": "stdout",
     "output_type": "stream",
     "text": [
      "[0. 0. 0. 0.]\n"
     ]
    }
   ],
   "source": [
    "emp_arr = np.empty(4)\n",
    "print(emp_arr)"
   ]
  },
  {
   "cell_type": "markdown",
   "id": "946bc1b5",
   "metadata": {},
   "source": [
    "# arange"
   ]
  },
  {
   "cell_type": "code",
   "execution_count": 19,
   "id": "79b3f22e",
   "metadata": {},
   "outputs": [
    {
     "name": "stdout",
     "output_type": "stream",
     "text": [
      "[0 1 2 3 4 5 6 7 8 9]\n"
     ]
    }
   ],
   "source": [
    "arrange_arr = np.arange(10)\n",
    "print(arrange_arr)"
   ]
  },
  {
   "cell_type": "markdown",
   "id": "c01a8a1a",
   "metadata": {},
   "source": [
    "# Daigonal eye function "
   ]
  },
  {
   "cell_type": "code",
   "execution_count": 20,
   "id": "5647c67a",
   "metadata": {},
   "outputs": [
    {
     "name": "stdout",
     "output_type": "stream",
     "text": [
      "[[1. 0. 0.]\n",
      " [0. 1. 0.]\n",
      " [0. 0. 1.]\n",
      " [0. 0. 0.]]\n"
     ]
    }
   ],
   "source": [
    "diagonal_arr = np.eye(4,3)\n",
    "print(diagonal_arr)"
   ]
  },
  {
   "cell_type": "markdown",
   "id": "bc098182",
   "metadata": {},
   "source": [
    "# Create numpy Array With Random Number"
   ]
  },
  {
   "cell_type": "markdown",
   "id": "066bd339",
   "metadata": {},
   "source": [
    "# rand: The rand function is used to create random values between 0 to 1"
   ]
  },
  {
   "cell_type": "code",
   "execution_count": 21,
   "id": "6ee50f9d",
   "metadata": {},
   "outputs": [
    {
     "name": "stdout",
     "output_type": "stream",
     "text": [
      "[0.82875732 0.91016529 0.64536567 0.79965393]\n"
     ]
    }
   ],
   "source": [
    "import numpy as np \n",
    "\n",
    "var = np.random.rand(4)\n",
    "\n",
    "print(var)"
   ]
  },
  {
   "cell_type": "code",
   "execution_count": 22,
   "id": "1fb91be5",
   "metadata": {},
   "outputs": [
    {
     "name": "stdout",
     "output_type": "stream",
     "text": [
      "[[0.01101983 0.48843764 0.51738637]\n",
      " [0.70751987 0.68649479 0.22908571]\n",
      " [0.45653491 0.27591748 0.77815227]\n",
      " [0.7690982  0.17800872 0.78865466]]\n"
     ]
    }
   ],
   "source": [
    "import numpy as np \n",
    "\n",
    "var = np.random.rand(4,3)\n",
    "\n",
    "print(var)"
   ]
  },
  {
   "cell_type": "code",
   "execution_count": 23,
   "id": "33f7d955",
   "metadata": {},
   "outputs": [
    {
     "name": "stdout",
     "output_type": "stream",
     "text": [
      "[[[0.14147291 0.98315159]\n",
      "  [0.08190232 0.74421983]\n",
      "  [0.83208678 0.06611098]]\n",
      "\n",
      " [[0.14886237 0.8707187 ]\n",
      "  [0.23309855 0.47112668]\n",
      "  [0.76465541 0.7125558 ]]\n",
      "\n",
      " [[0.92780803 0.07169894]\n",
      "  [0.9723991  0.71084389]\n",
      "  [0.95123142 0.70805821]]\n",
      "\n",
      " [[0.08417309 0.43218454]\n",
      "  [0.21382674 0.46985417]\n",
      "  [0.8615761  0.83585313]]]\n"
     ]
    }
   ],
   "source": [
    "import numpy as np \n",
    "\n",
    "var = np.random.rand(4,3,2)\n",
    "\n",
    "print(var)"
   ]
  },
  {
   "cell_type": "markdown",
   "id": "b8476a35",
   "metadata": {},
   "source": [
    "# randn(): This function is used to generate a random values close to zero . This may return possitive or negative values aswell"
   ]
  },
  {
   "cell_type": "code",
   "execution_count": 24,
   "id": "65f6a8b9",
   "metadata": {},
   "outputs": [
    {
     "name": "stdout",
     "output_type": "stream",
     "text": [
      "[-0.07615591 -0.57307806 -0.84566334  0.50561068  0.09369914 -0.59249923\n",
      " -0.12768228  1.07659122  0.19026131  0.14552104]\n"
     ]
    }
   ],
   "source": [
    "import numpy as np\n",
    "\n",
    "var = np.random.randn(10)\n",
    "\n",
    "print(var)"
   ]
  },
  {
   "cell_type": "code",
   "execution_count": 25,
   "id": "fbf4b650",
   "metadata": {},
   "outputs": [
    {
     "name": "stdout",
     "output_type": "stream",
     "text": [
      "[[ 1.28480272 -0.2301809  -1.91221207]\n",
      " [-0.33728353 -0.15641203 -1.77067115]\n",
      " [ 0.03600938  1.53063457 -0.66110319]\n",
      " [-1.16859858  0.36816942 -0.57603642]\n",
      " [-1.67631886 -0.30007251  1.56062576]\n",
      " [-0.60980299  0.29231794 -0.42790487]\n",
      " [-0.20661943 -0.21561642  0.34349388]\n",
      " [-1.01624426  0.31938376 -0.56588861]\n",
      " [ 1.3583104  -0.80061958 -0.41923863]\n",
      " [ 1.86688005  0.07023488 -1.04746159]]\n"
     ]
    }
   ],
   "source": [
    "import numpy as np\n",
    "\n",
    "var = np.random.randn(10,3)\n",
    "\n",
    "print(var)"
   ]
  },
  {
   "cell_type": "markdown",
   "id": "f70f66af",
   "metadata": {},
   "source": [
    "# ranf(): The function for random sampling in numpy . It return an array for specific shape and fill it with random floats in the half-open interval[0.0,1.0)"
   ]
  },
  {
   "cell_type": "code",
   "execution_count": 26,
   "id": "47e1d92f",
   "metadata": {},
   "outputs": [
    {
     "name": "stdout",
     "output_type": "stream",
     "text": [
      "[0.14351561 0.58376108 0.90543425 0.0732361 ]\n"
     ]
    }
   ],
   "source": [
    "import numpy as np\n",
    "\n",
    "arr_var = np.random.ranf(4)\n",
    "\n",
    "print(arr_var)"
   ]
  },
  {
   "cell_type": "markdown",
   "id": "4786399d",
   "metadata": {},
   "source": [
    "# randint(): This function is used to create random number between given number"
   ]
  },
  {
   "cell_type": "code",
   "execution_count": null,
   "id": "dc20b678",
   "metadata": {},
   "outputs": [],
   "source": [
    "import numpy as np\n",
    "\n",
    "arr_var = np.random.randint(1,20,10)\n",
    "print(arr_var)"
   ]
  }
 ],
 "metadata": {
  "kernelspec": {
   "display_name": "Python 3 (ipykernel)",
   "language": "python",
   "name": "python3"
  },
  "language_info": {
   "codemirror_mode": {
    "name": "ipython",
    "version": 3
   },
   "file_extension": ".py",
   "mimetype": "text/x-python",
   "name": "python",
   "nbconvert_exporter": "python",
   "pygments_lexer": "ipython3",
   "version": "3.9.4"
  }
 },
 "nbformat": 4,
 "nbformat_minor": 5
}
