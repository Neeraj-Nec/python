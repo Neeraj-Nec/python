{
 "cells": [
  {
   "cell_type": "code",
   "execution_count": 1,
   "id": "790ae6fb",
   "metadata": {},
   "outputs": [],
   "source": [
    "def test(a, b):\n",
    "    return a + b"
   ]
  },
  {
   "cell_type": "code",
   "execution_count": 2,
   "id": "4a9d8105",
   "metadata": {},
   "outputs": [
    {
     "data": {
      "text/plain": [
       "7"
      ]
     },
     "execution_count": 2,
     "metadata": {},
     "output_type": "execute_result"
    }
   ],
   "source": [
    "test(3,4)"
   ]
  },
  {
   "cell_type": "code",
   "execution_count": 4,
   "id": "78028878",
   "metadata": {},
   "outputs": [
    {
     "data": {
      "text/plain": [
       "'HelloNeeraj'"
      ]
     },
     "execution_count": 4,
     "metadata": {},
     "output_type": "execute_result"
    }
   ],
   "source": [
    "test(\"Hello\", \"Neeraj\")"
   ]
  },
  {
   "cell_type": "code",
   "execution_count": 5,
   "id": "7a84743b",
   "metadata": {},
   "outputs": [
    {
     "data": {
      "text/plain": [
       "[1, 2, 3, 4, 6, 7, 8, 9]"
      ]
     },
     "execution_count": 5,
     "metadata": {},
     "output_type": "execute_result"
    }
   ],
   "source": [
    "test([1,2,3,4], [6,7,8,9])"
   ]
  },
  {
   "cell_type": "code",
   "execution_count": 6,
   "id": "ee9982c5",
   "metadata": {},
   "outputs": [],
   "source": [
    "class WebDev:\n",
    "    def syllbas(self):\n",
    "        print(\"This is webDev\")"
   ]
  },
  {
   "cell_type": "code",
   "execution_count": 7,
   "id": "024ae130",
   "metadata": {},
   "outputs": [],
   "source": [
    "class DataScience:\n",
    "    def syllbas(self):\n",
    "        print(\"This is datascience\")"
   ]
  },
  {
   "cell_type": "code",
   "execution_count": 8,
   "id": "00e40d45",
   "metadata": {},
   "outputs": [],
   "source": [
    "def parser(obj):\n",
    "    for obj in obj :\n",
    "        obj.syllbas()"
   ]
  },
  {
   "cell_type": "code",
   "execution_count": 9,
   "id": "53ee7432",
   "metadata": {},
   "outputs": [],
   "source": [
    "obj_webDev = WebDev()\n",
    "obj_DataScience = DataScience()"
   ]
  },
  {
   "cell_type": "code",
   "execution_count": 10,
   "id": "165c2d9e",
   "metadata": {},
   "outputs": [
    {
     "name": "stdout",
     "output_type": "stream",
     "text": [
      "This is webDev\n",
      "This is datascience\n"
     ]
    }
   ],
   "source": [
    "parser([obj_webDev,obj_DataScience])"
   ]
  },
  {
   "cell_type": "code",
   "execution_count": null,
   "id": "c560ea06",
   "metadata": {},
   "outputs": [],
   "source": []
  }
 ],
 "metadata": {
  "kernelspec": {
   "display_name": "Python 3 (ipykernel)",
   "language": "python",
   "name": "python3"
  },
  "language_info": {
   "codemirror_mode": {
    "name": "ipython",
    "version": 3
   },
   "file_extension": ".py",
   "mimetype": "text/x-python",
   "name": "python",
   "nbconvert_exporter": "python",
   "pygments_lexer": "ipython3",
   "version": "3.9.4"
  }
 },
 "nbformat": 4,
 "nbformat_minor": 5
}
