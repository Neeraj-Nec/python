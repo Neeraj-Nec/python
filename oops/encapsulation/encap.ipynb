{
 "cells": [
  {
   "cell_type": "markdown",
   "id": "3c6d152b",
   "metadata": {},
   "source": [
    "Encapsulation"
   ]
  },
  {
   "cell_type": "code",
   "execution_count": 5,
   "id": "31f77ecf",
   "metadata": {},
   "outputs": [],
   "source": [
    "class DemoNotEncapsulation:\n",
    "    '''\n",
    "        Here the class variable is public and is not encapsulated \n",
    "        The any object of the class can access the instance vairiable \n",
    "        \n",
    "    '''\n",
    "    def __init__(self, name, address):\n",
    "        self.name = name\n",
    "        self.address = address\n",
    "    def print_data(self):\n",
    "        print(self.name, self.address)"
   ]
  },
  {
   "cell_type": "code",
   "execution_count": 9,
   "id": "9df0ac25",
   "metadata": {},
   "outputs": [
    {
     "name": "stdout",
     "output_type": "stream",
     "text": [
      "neeraj\n",
      "Ayodhya\n",
      "neeraj Ayodhya\n"
     ]
    }
   ],
   "source": [
    "obj = DemoNotEncapsulation(\"neeraj\", \"Ayodhya\")\n",
    "print(obj.name)  #object of class directly can access the namd and address of class DemoNotEncapsulation\n",
    "print(obj.address)\n",
    "obj.print_data()"
   ]
  },
  {
   "cell_type": "code",
   "execution_count": 36,
   "id": "5124163a",
   "metadata": {},
   "outputs": [],
   "source": [
    "class DemoEncapsulation:\n",
    "    '''\n",
    "        Here the class variable is public and is not encapsulated \n",
    "        The any object of the class can access the instance vairiable \n",
    "        \n",
    "    '''\n",
    "    def __init__(self, name, address, speed):\n",
    "        self.__name = name\n",
    "        self.__address = address\n",
    "        self.__speed = speed\n",
    "        \n",
    "    # setter method to change the speed\n",
    "    \n",
    "    def change_speed(self, speed):\n",
    "        if self.__speed > 10 :\n",
    "            self.__speed = speed \n",
    "    ## Gettre method to change the speed        \n",
    "    def get_speed(self):\n",
    "        return self.__speed"
   ]
  },
  {
   "cell_type": "code",
   "execution_count": 37,
   "id": "408c24f4",
   "metadata": {},
   "outputs": [
    {
     "name": "stdout",
     "output_type": "stream",
     "text": [
      "20\n"
     ]
    }
   ],
   "source": [
    "obj = DemoEncapsulation(\"Neeraj\", \"ayodhya\", 30)\n",
    "# print(obj.__name) This is not correct and we can not access the vairiable __name by object   \n",
    "\n",
    "obj.change_speed(20)\n",
    "print(obj.get_speed())"
   ]
  },
  {
   "cell_type": "code",
   "execution_count": null,
   "id": "b99deede",
   "metadata": {},
   "outputs": [],
   "source": []
  },
  {
   "cell_type": "code",
   "execution_count": null,
   "id": "aa89323a",
   "metadata": {},
   "outputs": [],
   "source": []
  },
  {
   "cell_type": "code",
   "execution_count": null,
   "id": "e6aa3c1d",
   "metadata": {},
   "outputs": [],
   "source": []
  }
 ],
 "metadata": {
  "kernelspec": {
   "display_name": "Python 3 (ipykernel)",
   "language": "python",
   "name": "python3"
  },
  "language_info": {
   "codemirror_mode": {
    "name": "ipython",
    "version": 3
   },
   "file_extension": ".py",
   "mimetype": "text/x-python",
   "name": "python",
   "nbconvert_exporter": "python",
   "pygments_lexer": "ipython3",
   "version": "3.9.4"
  }
 },
 "nbformat": 4,
 "nbformat_minor": 5
}
