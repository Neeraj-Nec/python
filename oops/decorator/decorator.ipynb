{
 "cells": [
  {
   "cell_type": "code",
   "execution_count": 3,
   "id": "e0d9d9ec",
   "metadata": {},
   "outputs": [
    {
     "name": "stdout",
     "output_type": "stream",
     "text": [
      "inner\n"
     ]
    }
   ],
   "source": [
    "def outer():\n",
    "    x = 10\n",
    "    def inner():\n",
    "        x = 20\n",
    "        result = x + y\n",
    "        return result\n",
    "    return inner\n",
    "a = outer()\n",
    "print(a.__name__)"
   ]
  },
  {
   "cell_type": "code",
   "execution_count": 1,
   "id": "b8c8ecfa",
   "metadata": {},
   "outputs": [],
   "source": [
    "def function1():\n",
    "    print(\"This is function1\")\n",
    "\n",
    "def function2(func):\n",
    "    print(\"This is function2\")\n",
    "    func()\n"
   ]
  },
  {
   "cell_type": "code",
   "execution_count": 2,
   "id": "a550dd13",
   "metadata": {},
   "outputs": [
    {
     "name": "stdout",
     "output_type": "stream",
     "text": [
      "This is function2\n",
      "This is function1\n"
     ]
    }
   ],
   "source": [
    "function2(function1)"
   ]
  },
  {
   "cell_type": "code",
   "execution_count": 7,
   "id": "c5d18378",
   "metadata": {},
   "outputs": [],
   "source": [
    "# code for prime number\n",
    "@print_upper\n",
    "def print_str():\n",
    "    return \"Hello This is good morning\""
   ]
  },
  {
   "cell_type": "code",
   "execution_count": 8,
   "id": "c19f3eda",
   "metadata": {},
   "outputs": [
    {
     "data": {
      "text/plain": [
       "'HELLO THIS IS GOOD MORNING'"
      ]
     },
     "execution_count": 8,
     "metadata": {},
     "output_type": "execute_result"
    }
   ],
   "source": [
    "print_str()"
   ]
  },
  {
   "cell_type": "code",
   "execution_count": 9,
   "id": "91ace48e",
   "metadata": {},
   "outputs": [],
   "source": [
    "def print_upper(func):\n",
    "    def inner():\n",
    "        str = func()\n",
    "        return str.upper()\n",
    "    return inner"
   ]
  },
  {
   "cell_type": "code",
   "execution_count": 10,
   "id": "05938518",
   "metadata": {},
   "outputs": [
    {
     "name": "stdout",
     "output_type": "stream",
     "text": [
      "HELLO THIS IS GOOD MORNING\n"
     ]
    }
   ],
   "source": [
    "d = print_upper(print_str)\n",
    "print(d())"
   ]
  },
  {
   "cell_type": "markdown",
   "id": "f86c9450",
   "metadata": {},
   "source": [
    "# Multiple Decorator"
   ]
  },
  {
   "cell_type": "code",
   "execution_count": 19,
   "id": "dcd5490d",
   "metadata": {},
   "outputs": [],
   "source": [
    "def split_string(func):\n",
    "    def wrapper():\n",
    "        str = func()\n",
    "        return str.split()\n",
    "    return wrapper"
   ]
  },
  {
   "cell_type": "code",
   "execution_count": 20,
   "id": "a0e3207c",
   "metadata": {},
   "outputs": [],
   "source": [
    "def upper_string(func):\n",
    "    def inner():\n",
    "        str = func()\n",
    "        return str.upper()\n",
    "    return inner"
   ]
  },
  {
   "cell_type": "code",
   "execution_count": 25,
   "id": "d3034b4d",
   "metadata": {},
   "outputs": [],
   "source": [
    "#Example of Decorator\n",
    "\n",
    "@split_string\n",
    "@upper_string\n",
    "def ordinary():\n",
    "    return \"good morning\""
   ]
  },
  {
   "cell_type": "code",
   "execution_count": 26,
   "id": "5638c61a",
   "metadata": {},
   "outputs": [
    {
     "data": {
      "text/plain": [
       "['GOOD', 'MORNING']"
      ]
     },
     "execution_count": 26,
     "metadata": {},
     "output_type": "execute_result"
    }
   ],
   "source": [
    "ordinary()"
   ]
  },
  {
   "cell_type": "code",
   "execution_count": null,
   "id": "efc7ee76",
   "metadata": {},
   "outputs": [],
   "source": []
  }
 ],
 "metadata": {
  "kernelspec": {
   "display_name": "Python 3 (ipykernel)",
   "language": "python",
   "name": "python3"
  },
  "language_info": {
   "codemirror_mode": {
    "name": "ipython",
    "version": 3
   },
   "file_extension": ".py",
   "mimetype": "text/x-python",
   "name": "python",
   "nbconvert_exporter": "python",
   "pygments_lexer": "ipython3",
   "version": "3.9.4"
  }
 },
 "nbformat": 4,
 "nbformat_minor": 5
}
