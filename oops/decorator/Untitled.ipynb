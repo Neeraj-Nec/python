{
 "cells": [
  {
   "cell_type": "code",
   "execution_count": 1,
   "id": "5ffb5585",
   "metadata": {},
   "outputs": [
    {
     "name": "stdout",
     "output_type": "stream",
     "text": [
      "inner\n"
     ]
    }
   ],
   "source": [
    "def outer():\n",
    "    x = 10\n",
    "    def inner():\n",
    "        x = 20\n",
    "        result = x + y\n",
    "        return result\n",
    "    return inner\n",
    "a = outer()\n",
    "print(a.__name__)"
   ]
  },
  {
   "cell_type": "code",
   "execution_count": 2,
   "id": "d5c8cd49",
   "metadata": {},
   "outputs": [],
   "source": [
    "def function1():\n",
    "    print(\"This is function1\")"
   ]
  },
  {
   "cell_type": "code",
   "execution_count": 3,
   "id": "897a1abe",
   "metadata": {},
   "outputs": [],
   "source": [
    "def function2(func):\n",
    "    print(\"This is function2\")\n",
    "    function2(func)"
   ]
  },
  {
   "cell_type": "code",
   "execution_count": null,
   "id": "e83d5b27",
   "metadata": {},
   "outputs": [],
   "source": [
    "function2(function1)"
   ]
  },
  {
   "cell_type": "code",
   "execution_count": null,
   "id": "f205d4c7",
   "metadata": {},
   "outputs": [],
   "source": []
  }
 ],
 "metadata": {
  "kernelspec": {
   "display_name": "Python 3 (ipykernel)",
   "language": "python",
   "name": "python3"
  },
  "language_info": {
   "codemirror_mode": {
    "name": "ipython",
    "version": 3
   },
   "file_extension": ".py",
   "mimetype": "text/x-python",
   "name": "python",
   "nbconvert_exporter": "python",
   "pygments_lexer": "ipython3",
   "version": "3.9.4"
  }
 },
 "nbformat": 4,
 "nbformat_minor": 5
}
