{
 "cells": [
  {
   "cell_type": "markdown",
   "id": "97ea40c7",
   "metadata": {},
   "source": [
    "# Inheritance : The concept of inherit property of parent class in known as inheritance "
   ]
  },
  {
   "cell_type": "code",
   "execution_count": 1,
   "id": "c5053b18",
   "metadata": {},
   "outputs": [],
   "source": [
    "class Parent:\n",
    "    def test(self):\n",
    "        print(\"This is my parent class\")"
   ]
  },
  {
   "cell_type": "code",
   "execution_count": 5,
   "id": "9d53630b",
   "metadata": {},
   "outputs": [],
   "source": [
    "class Child(Parent):\n",
    "    def test_child(self):\n",
    "        print(\"This is child class\")"
   ]
  },
  {
   "cell_type": "code",
   "execution_count": 6,
   "id": "18e38b9e",
   "metadata": {},
   "outputs": [
    {
     "name": "stdout",
     "output_type": "stream",
     "text": [
      "This is my parent class\n"
     ]
    }
   ],
   "source": [
    "obj = Child()\n",
    "obj.test()"
   ]
  },
  {
   "cell_type": "markdown",
   "id": "96e09f2e",
   "metadata": {},
   "source": [
    "In the abobe example the obj of Child class is using the property of parent class"
   ]
  },
  {
   "cell_type": "markdown",
   "id": "5a17e046",
   "metadata": {},
   "source": [
    "# MultiLable inheritance"
   ]
  },
  {
   "cell_type": "code",
   "execution_count": 9,
   "id": "c6d785a7",
   "metadata": {},
   "outputs": [],
   "source": [
    "class Parent1:\n",
    "    def test_parent1(self):\n",
    "        print(\"This is parent1\")"
   ]
  },
  {
   "cell_type": "code",
   "execution_count": 10,
   "id": "831c1a42",
   "metadata": {},
   "outputs": [],
   "source": [
    "class Parent2(Parent1):\n",
    "    def test_parent2(self):\n",
    "        print(\"This is parent2\")"
   ]
  },
  {
   "cell_type": "code",
   "execution_count": 11,
   "id": "aae59a35",
   "metadata": {},
   "outputs": [],
   "source": [
    "class Parent3(Parent2):\n",
    "    def test_parent3(self):\n",
    "        print(\"This is parent3\")"
   ]
  },
  {
   "cell_type": "code",
   "execution_count": 12,
   "id": "cdfff28e",
   "metadata": {},
   "outputs": [
    {
     "name": "stdout",
     "output_type": "stream",
     "text": [
      "This is parent1\n"
     ]
    }
   ],
   "source": [
    "obj = Parent3()\n",
    "obj.test_parent1()"
   ]
  },
  {
   "cell_type": "markdown",
   "id": "22cb2125",
   "metadata": {},
   "source": [
    "Here In the above example the child of  Parent3 is able to access the obj of Parent1"
   ]
  },
  {
   "cell_type": "markdown",
   "id": "8fa3be1f",
   "metadata": {},
   "source": [
    "# Multiple inheritance"
   ]
  },
  {
   "cell_type": "code",
   "execution_count": 14,
   "id": "45fabcb4",
   "metadata": {},
   "outputs": [],
   "source": [
    "class MultipleParent1:\n",
    "    def multiple_parent1(self):\n",
    "        print(\"This is multiple_parent\")"
   ]
  },
  {
   "cell_type": "code",
   "execution_count": 15,
   "id": "31aa6dc6",
   "metadata": {},
   "outputs": [],
   "source": [
    "class MultipleParent2:\n",
    "    def multiple_parent2(self):\n",
    "        print(\"This is multiple_parent2\")"
   ]
  },
  {
   "cell_type": "code",
   "execution_count": 16,
   "id": "2b9b704f",
   "metadata": {},
   "outputs": [],
   "source": [
    "class Child(MultipleParent1,MultipleParent2): # multiple inheritance \n",
    "    def child_method(self):\n",
    "        print(\"This is child class\")"
   ]
  },
  {
   "cell_type": "code",
   "execution_count": 18,
   "id": "e82735f8",
   "metadata": {},
   "outputs": [
    {
     "name": "stdout",
     "output_type": "stream",
     "text": [
      "This is multiple_parent\n"
     ]
    }
   ],
   "source": [
    "obj = Child()\n",
    "obj.multiple_parent1()"
   ]
  },
  {
   "cell_type": "code",
   "execution_count": null,
   "id": "f65ffd17",
   "metadata": {},
   "outputs": [],
   "source": []
  }
 ],
 "metadata": {
  "kernelspec": {
   "display_name": "Python 3 (ipykernel)",
   "language": "python",
   "name": "python3"
  },
  "language_info": {
   "codemirror_mode": {
    "name": "ipython",
    "version": 3
   },
   "file_extension": ".py",
   "mimetype": "text/x-python",
   "name": "python",
   "nbconvert_exporter": "python",
   "pygments_lexer": "ipython3",
   "version": "3.9.4"
  }
 },
 "nbformat": 4,
 "nbformat_minor": 5
}
