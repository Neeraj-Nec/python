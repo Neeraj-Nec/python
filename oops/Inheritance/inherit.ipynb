{
 "cells": [
  {
   "cell_type": "markdown",
   "id": "156062a3",
   "metadata": {},
   "source": [
    "# Inheritance : The concept of inherit property of parent class in known as inheritance "
   ]
  },
  {
   "cell_type": "code",
   "execution_count": 1,
   "id": "243f998b",
   "metadata": {},
   "outputs": [],
   "source": [
    "class Parent:\n",
    "    def test(self):\n",
    "        print(\"This is my parent class\")"
   ]
  },
  {
   "cell_type": "code",
   "execution_count": 5,
   "id": "fd08289b",
   "metadata": {},
   "outputs": [],
   "source": [
    "class Child(Parent):\n",
    "    def test_child(self):\n",
    "        print(\"This is child class\")"
   ]
  },
  {
   "cell_type": "code",
   "execution_count": 6,
   "id": "1fb7961f",
   "metadata": {},
   "outputs": [
    {
     "name": "stdout",
     "output_type": "stream",
     "text": [
      "This is my parent class\n"
     ]
    }
   ],
   "source": [
    "obj = Child()\n",
    "obj.test()"
   ]
  },
  {
   "cell_type": "markdown",
   "id": "11cc72c4",
   "metadata": {},
   "source": [
    "In the abobe example the obj of Child class is using the property of parent class"
   ]
  },
  {
   "cell_type": "markdown",
   "id": "89eb1b84",
   "metadata": {},
   "source": [
    "# MultiLable inheritance"
   ]
  },
  {
   "cell_type": "code",
   "execution_count": 9,
   "id": "8068b2e2",
   "metadata": {},
   "outputs": [],
   "source": [
    "class Parent1:\n",
    "    def test_parent1(self):\n",
    "        print(\"This is parent1\")"
   ]
  },
  {
   "cell_type": "code",
   "execution_count": 10,
   "id": "c0b37cb6",
   "metadata": {},
   "outputs": [],
   "source": [
    "class Parent2(Parent1):\n",
    "    def test_parent2(self):\n",
    "        print(\"This is parent2\")"
   ]
  },
  {
   "cell_type": "code",
   "execution_count": 11,
   "id": "419f58d2",
   "metadata": {},
   "outputs": [],
   "source": [
    "class Parent3(Parent2):\n",
    "    def test_parent3(self):\n",
    "        print(\"This is parent3\")"
   ]
  },
  {
   "cell_type": "code",
   "execution_count": 12,
   "id": "d7155c53",
   "metadata": {},
   "outputs": [
    {
     "name": "stdout",
     "output_type": "stream",
     "text": [
      "This is parent1\n"
     ]
    }
   ],
   "source": [
    "obj = Parent3()\n",
    "obj.test_parent1()"
   ]
  },
  {
   "cell_type": "markdown",
   "id": "acc1150b",
   "metadata": {},
   "source": [
    "Here In the above example the child of  Parent3 is able to access the obj of Parent1"
   ]
  },
  {
   "cell_type": "markdown",
   "id": "1f22d0b0",
   "metadata": {},
   "source": [
    "# Multiple inheritance"
   ]
  },
  {
   "cell_type": "code",
   "execution_count": 14,
   "id": "04338618",
   "metadata": {},
   "outputs": [],
   "source": [
    "class MultipleParent1:\n",
    "    def multiple_parent1(self):\n",
    "        print(\"This is multiple_parent\")"
   ]
  },
  {
   "cell_type": "code",
   "execution_count": 15,
   "id": "126e99bb",
   "metadata": {},
   "outputs": [],
   "source": [
    "class MultipleParent2:\n",
    "    def multiple_parent2(self):\n",
    "        print(\"This is multiple_parent2\")"
   ]
  },
  {
   "cell_type": "code",
   "execution_count": null,
   "id": "6f62f79c",
   "metadata": {},
   "outputs": [],
   "source": [
    "class Child(MultipleParent1,MultipleParent2):\n",
    "    def child_method(self):\n",
    "        print(\"This is child calls\")"
   ]
  }
 ],
 "metadata": {
  "kernelspec": {
   "display_name": "Python 3 (ipykernel)",
   "language": "python",
   "name": "python3"
  },
  "language_info": {
   "codemirror_mode": {
    "name": "ipython",
    "version": 3
   },
   "file_extension": ".py",
   "mimetype": "text/x-python",
   "name": "python",
   "nbconvert_exporter": "python",
   "pygments_lexer": "ipython3",
   "version": "3.9.4"
  }
 },
 "nbformat": 4,
 "nbformat_minor": 5
}
